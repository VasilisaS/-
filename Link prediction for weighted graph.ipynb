{
 "cells": [
  {
   "cell_type": "markdown",
   "metadata": {},
   "source": [
    "#### Функция source_word_vector(source_net, target_net, weights, nodes)\n",
    "\n",
    "\n",
    "* Возвращает словарь - название source вершины : вектор, у которого на соответствующих позициях стоят веса выходящих ребер.\n",
    "\n",
    "* Акцент на количестве слов ассоциаций и насколько эта связь \"сильна\" (гипотеза: чем больше похожих ассоциаций, тем вероятнее возникновение связи)"
   ]
  },
  {
   "cell_type": "code",
   "execution_count": 16,
   "metadata": {},
   "outputs": [],
   "source": [
    "# функция возврщает словарь \n",
    "#название source вершины : вектор, у которого на соответствующих позициях стоят веса выходящих ребер\n",
    "def source_word_vector(source_net, target_net, weights, nodes):\n",
    "    \n",
    "    checked = []\n",
    "    source_word_vector = defaultdict(list)\n",
    "    \n",
    "    for i in range(len(source_net)):\n",
    "        \n",
    "        if source_net[i] not in checked:\n",
    "            checked.append( source_net[i]) # пометим как обработанную\n",
    "            \n",
    "            wv = [0.0 for i in range(len(nodes))]# нулевой вектор длины, равной числу вершин\n",
    "            position_to_append = nodes.index(target_net[i]) # индекс слова-ассоциации\n",
    "            wv[position_to_append] = weights[i] # по этому индексу кладем в массив вес ребра\n",
    "        \n",
    "        #если для вершины уже создан вектор\n",
    "        else:\n",
    "            position_to_append = nodes.index(target_net[i]) # индекс слова-ассоциации\n",
    "            wv[position_to_append] = weights[i] # по этому индексу кладем в массив вес ребра\n",
    "        \n",
    "        \n",
    "        source_word_vector[source_net[i]].append(wv)\n",
    "            \n",
    "    #if source_net[len(source_net) - 1] != source_net[len(source_net) - 2] :     \n",
    "     #   source_word_vector[source_net[len(source_net) - 1]].append(wv)\n",
    "        \n",
    "    return source_word_vector     "
   ]
  },
  {
   "cell_type": "markdown",
   "metadata": {},
   "source": [
    "### Вывод новых метрик link prediction на основе векторных представлений вершин\n",
    "* Jaccard coefficient\n",
    "* Resource allocation index\n",
    "* Adamar index\n",
    "* Preferential attachment\n",
    "* Manchattan metric"
   ]
  },
  {
   "cell_type": "code",
   "execution_count": 22,
   "metadata": {},
   "outputs": [],
   "source": [
    "def jaccard_coefficient_v(edge, vectors):\n",
    "    intersection = np.array(vectors[edge[0]][0]) * np.array(vectors[edge[1]][0])\n",
    "    union = np.array(vectors[edge[0]][0]) + np.array(vectors[edge[1]][0])\n",
    "    union_norm = math.sqrt(np.sum(union**2))\n",
    "    \n",
    "    JC = np.sum(intersection) / union_norm\n",
    "    return JC\n",
    "\n",
    "def resource_allocation_v(edge, vectors, nodes):\n",
    "    intersection = np.array(vectors[edge[0]][0]) * np.array(vectors[edge[1]][0])\n",
    "    ra = 0\n",
    "    for i in range(len(intersection)):\n",
    "        \n",
    "        if (intersection[i] != 0):\n",
    "            elem = nodes[i] #элемент с текущим индексом\n",
    "            ra += intersection[i]/np.sum(vectors[elem][0])\n",
    "    \n",
    "    return ra\n",
    "\n",
    "def adamic_adar_v(edge, vectors, nodes):\n",
    "    intersection = np.array(vectors[edge[0]][0]) * np.array(vectors[edge[1]][0])\n",
    "    ra = 0\n",
    "    for i in range(len(intersection)):\n",
    "        \n",
    "        if (intersection[i] != 0):\n",
    "            elem = nodes[i] #элемент с текущим индексом\n",
    "            ra += intersection[i]/(np.log(np.sum(vectors[elem][0])) + 1)\n",
    "    \n",
    "    return ra\n",
    "\n",
    "def pref_attachment_v(edge, vectors):\n",
    "    pa = np.sum(vectors[edge[0]][0]) * np.sum(vectors[edge[1]][0])\n",
    "    \n",
    "    return pa\n",
    "\n",
    "def manchattan(edge, vectors):\n",
    "    m = np.sum(np.abs(np.array(vectors[edge[0]][0]) - np.array(vectors[edge[1]][0])))\n",
    "    return m"
   ]
  }
 ],
 "metadata": {
  "kernelspec": {
   "display_name": "Python 3",
   "language": "python",
   "name": "python3"
  },
  "language_info": {
   "codemirror_mode": {
    "name": "ipython",
    "version": 3
   },
   "file_extension": ".py",
   "mimetype": "text/x-python",
   "name": "python",
   "nbconvert_exporter": "python",
   "pygments_lexer": "ipython3",
   "version": "3.6.5"
  }
 },
 "nbformat": 4,
 "nbformat_minor": 2
}
