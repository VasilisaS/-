{
 "cells": [
  {
   "cell_type": "code",
   "execution_count": 3,
   "metadata": {},
   "outputs": [],
   "source": [
    "#\n",
    "def dict_of_nodes_number(G):\n",
    "    #создаем cловарь - название вершины: число ее соседей\n",
    "    list_of_nodes = list(G.nodes)\n",
    "\n",
    "    dict_neighbor_number = {}\n",
    "\n",
    "    neighbor_number = []\n",
    "    for i in list_of_nodes:\n",
    "        neigh = []\n",
    "        for n in G.neighbors(i):\n",
    "            neigh.append(n)\n",
    "        neighbor_number.append(len(neigh))  \n",
    "    \n",
    "        dict_neighbor_number.update([(i,len(neigh))])\n",
    "    \n",
    "    return dict_neighbor_number    \n",
    "\n",
    "#возвращает список общих соседей вершин ребра edge\n",
    "def common_neighbors(G, edge):\n",
    "    common_list = [] \n",
    "    neigh_i, neigh_j = [], []\n",
    "    for ni in G.neighbors(edge[0]):\n",
    "        for nj in G.neighbors(edge[1]):\n",
    "            if ni == nj:\n",
    "                common_list.append(ni)    \n",
    "    return common_list "
   ]
  },
  {
   "cell_type": "markdown",
   "metadata": {},
   "source": [
    "Функция preferential_attachment (dict_neighbor_number, list_of_edges)\n",
    "* возвращает список значений коээфициента.\n",
    "* на вход - словарь \"вершина\":число соседей и список ребер для которых предсказываем коэффициент"
   ]
  },
  {
   "cell_type": "code",
   "execution_count": 4,
   "metadata": {},
   "outputs": [],
   "source": [
    "def preferential_attachment(dict_neighbor_number, list_of_edges):\n",
    "    pref_attach = []\n",
    "    for edge in list_of_edges:\n",
    "        i = edge[0]\n",
    "        j = edge[1]\n",
    "        p = dict_neighbor_number.get(i) * dict_neighbor_number.get(j) \n",
    "        pref_attach.append(p)\n",
    "    return pref_attach "
   ]
  },
  {
   "cell_type": "markdown",
   "metadata": {},
   "source": [
    "Функция jaccard_coefficent(G, dict_neighbor_number, list_of_edges)\n",
    "* возвращает список значений коээфициента\n",
    "* на вход - граф(до удаления вершин), словарь \"вершина\":число соседей и список ребер для которых предсказываем коэффициент\n"
   ]
  },
  {
   "cell_type": "code",
   "execution_count": 5,
   "metadata": {},
   "outputs": [],
   "source": [
    "def jaccard_coefficent(G, dict_neighbor_number, list_of_edges):\n",
    "   \n",
    "    jac_coef = []\n",
    "    for edge in list_of_edges:\n",
    "        jc =  len(common_neighbors(G, edge))/(dict_neighbor_number.get(edge[0]) + dict_neighbor_number.get(edge[1]))\n",
    "        jac_coef.append(jc)\n",
    "    return jac_coef"
   ]
  },
  {
   "cell_type": "markdown",
   "metadata": {},
   "source": [
    "Функция resource_allocation_index(G, dict_neighbor_number, list_of_edges)\n",
    "* возвращает список значений коээфициента\n",
    "* на вход - граф(до удаления вершин), словарь \"вершина\":число соседей и список ребер для которых предсказываем коэффициент"
   ]
  },
  {
   "cell_type": "code",
   "execution_count": 6,
   "metadata": {},
   "outputs": [],
   "source": [
    "def resource_allocation_index(G, dict_neighbor_number, list_of_edges):   \n",
    "    res_alloc = []\n",
    "    for edge in list_of_edges:\n",
    "        common_list = common_neighbors(G, edge) #список общих соседей\n",
    "        if not common_list:\n",
    "            res_alloc.append(0)\n",
    "        else: #если список общих соседей не пуст\n",
    "            ra = 0\n",
    "            for j in common_list:\n",
    "                ra = ra + 1/dict_neighbor_number.get(j)\n",
    "            res_alloc.append(ra)   \n",
    "    return res_alloc"
   ]
  },
  {
   "cell_type": "markdown",
   "metadata": {},
   "source": [
    "Функция adamic_adar(G, dict_neighbor_number, list_of_edges)\n",
    "* возвращает список значений коээфициента\n",
    "* на вход - граф(до удаления вершин), словарь \"вершина\":число соседей и список ребер для которых предсказываем коэффициент"
   ]
  },
  {
   "cell_type": "code",
   "execution_count": 7,
   "metadata": {},
   "outputs": [],
   "source": [
    "def adamic_adar(G, dict_neighbor_number, list_of_edges):\n",
    "    adam_adar = []\n",
    "    for edge in list_of_edges:\n",
    "        common_list = common_neighbors(G, edge) #список общих соседей\n",
    "        if not common_list:\n",
    "            adam_adar.append(0)\n",
    "        else: #если список общих соседей не пуст\n",
    "            aa = 0\n",
    "            for j in common_list:\n",
    "                aa = aa + 1/np.log(1+dict_neighbor_number.get(j)) #! 1/log(Г(w) + 1)\n",
    "            adam_adar.append(aa)   \n",
    "    return adam_adar "
   ]
  },
  {
   "cell_type": "code",
   "execution_count": null,
   "metadata": {},
   "outputs": [],
   "source": []
  }
 ],
 "metadata": {
  "kernelspec": {
   "display_name": "Python 3",
   "language": "python",
   "name": "python3"
  },
  "language_info": {
   "codemirror_mode": {
    "name": "ipython",
    "version": 3
   },
   "file_extension": ".py",
   "mimetype": "text/x-python",
   "name": "python",
   "nbconvert_exporter": "python",
   "pygments_lexer": "ipython3",
   "version": "3.6.5"
  }
 },
 "nbformat": 4,
 "nbformat_minor": 2
}
